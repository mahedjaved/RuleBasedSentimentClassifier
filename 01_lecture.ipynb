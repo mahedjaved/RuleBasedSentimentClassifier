{
 "cells": [
  {
   "cell_type": "markdown",
   "metadata": {},
   "source": [
    "# Lecture 01 \n",
    "> Link : https://www.youtube.com/watch?v=pGC-QiNbuwA"
   ]
  },
  {
   "cell_type": "markdown",
   "metadata": {},
   "source": [
    "# Why Burmese translation fails ?"
   ]
  },
  {
   "cell_type": "markdown",
   "metadata": {},
   "source": [
    "1) Some portion focused on errors in most ML tasks"
   ]
  },
  {
   "cell_type": "markdown",
   "metadata": {},
   "source": [
    "2) The methodology is similar to current research in Burmese translations, however the flaws pointed out are\n",
    "\n",
    "    > * Less data\n",
    "    > * Less representation of models\n",
    "    > * Burmese uses script which no other language uses ==> makes it difficult to translation `even for a human`"
   ]
  },
  {
   "cell_type": "markdown",
   "metadata": {},
   "source": [
    "3. Tips on spotting errors in AI translation\n",
    "\n",
    "    > * Translation is not coherent\n",
    "\n",
    "    > * Suffers from syntax or semanticall misalignment\n",
    "\n",
    "    > * "
   ]
  },
  {
   "cell_type": "markdown",
   "metadata": {},
   "source": [
    "4. You can use pretrained models to `assign coherency` as a seperate metric to test translation in other languages"
   ]
  },
  {
   "cell_type": "markdown",
   "metadata": {},
   "source": [
    "5. A sub-field `quality estimation` as part of `machine translation` larger field. It basically deals with these metrics such as coherency, grammatical errors, semantic errors so on and so forth"
   ]
  },
  {
   "cell_type": "markdown",
   "metadata": {},
   "source": [
    "6. Google doesnt tell you their machine translation is incorrect --> lolz Graham says \"They dont want to admit their mistake\" lolz !"
   ]
  },
  {
   "cell_type": "markdown",
   "metadata": {},
   "source": [
    "7. Bob says, when you do evaluation of translation, this is a bit difficult, so maybe Google is struggling wtth it"
   ]
  },
  {
   "cell_type": "markdown",
   "metadata": {},
   "source": [
    "# Identifying the Entity Task"
   ]
  },
  {
   "cell_type": "markdown",
   "metadata": {},
   "source": [
    "1. An example can be analysing `characters` in `movie scripts` ==> vital in computational social science"
   ]
  },
  {
   "cell_type": "markdown",
   "metadata": {},
   "source": [
    "2. In the example of the NY times article, the `Stanford CoreNLP` was tasked to analyse the text by sorting out the different `entities` present"
   ]
  },
  {
   "cell_type": "markdown",
   "metadata": {},
   "source": [
    "3. The entities would be labelled seperately, for example in the following example ..."
   ]
  },
  {
   "cell_type": "markdown",
   "metadata": {},
   "source": [
    "![title](./img/lect01_01.png)"
   ]
  },
  {
   "cell_type": "markdown",
   "metadata": {},
   "source": [
    "... you can see that the individual categories labelled (or predictions in this case I believe) highlight each of the texts as `DATE` or `Sunday`, `NUMBER` as 4.0, `CAUSE_OF_DEATH` as `storm`, so on and so forth"
   ]
  },
  {
   "cell_type": "markdown",
   "metadata": {},
   "source": [
    "4. I think the top bit is the ground truth, and the bottom half are the predictions section"
   ]
  },
  {
   "cell_type": "markdown",
   "metadata": {},
   "source": [
    "# General Framework for NLP System"
   ]
  },
  {
   "cell_type": "markdown",
   "metadata": {},
   "source": [
    "1. Obv. it is DL so it must be a function, therefore this function will map `input X (language)` into an `output Y (different language)`"
   ]
  },
  {
   "cell_type": "markdown",
   "metadata": {},
   "source": [
    "2. Some great examples of NLP tasks"
   ]
  },
  {
   "cell_type": "markdown",
   "metadata": {},
   "source": [
    "![title](./img/lect01_02.png)"
   ]
  },
  {
   "cell_type": "markdown",
   "metadata": {},
   "source": [
    "3. `Rule based classifier` means you manually deine the rules that govern the translation from `X` to `Y`"
   ]
  },
  {
   "cell_type": "markdown",
   "metadata": {},
   "source": [
    "4. Deep learning methods use `data-driven` approach as opposed to making rules"
   ]
  },
  {
   "cell_type": "markdown",
   "metadata": {},
   "source": [
    "5. Do not discount the rule-based method, but however make a test and then confirm if rule-based methods can work or not, if NOT then by all means, use data-driven approaches"
   ]
  },
  {
   "cell_type": "markdown",
   "metadata": {},
   "source": [
    "# Train, Development, Test"
   ]
  },
  {
   "cell_type": "markdown",
   "metadata": {},
   "source": [
    "1. Basic re-run through the ML tasks: a `dev`, `validation` set is for testing different hyperparameters"
   ]
  },
  {
   "cell_type": "markdown",
   "metadata": {},
   "source": [
    "2. Test set reflects the `final test`, do not use for `making decision`"
   ]
  },
  {
   "cell_type": "markdown",
   "metadata": {},
   "source": [
    "3. Graham mentions a popular saying, \"Do not use the test set until a day before you BEGIN writing your paper"
   ]
  },
  {
   "cell_type": "markdown",
   "metadata": {},
   "source": [
    "4. So if the model is performing bad, use the `dev set` to evaluation / validation, thats why we it is called the `validation set` sometimes"
   ]
  },
  {
   "cell_type": "markdown",
   "metadata": {},
   "source": [
    "5. Graham says it will pollute your thinking by designing / improving your model performance under the test set"
   ]
  },
  {
   "cell_type": "markdown",
   "metadata": {},
   "source": [
    "# Making a Rule-Based NLP System"
   ]
  },
  {
   "cell_type": "markdown",
   "metadata": {},
   "source": [
    "1) It is always a good exercise to first begin designing a rule-based NLP system :: Why >\n",
    "\n",
    "    > * Helps you critically analyse your data\n",
    "\n",
    "    > * Makes you realise how hard building NLP system really is\n",
    "\n",
    "    > * Sometimes making rule-based solns can outperform ML/DL based ones\n",
    "\n",
    "    > * You are never ever going to have a large amount of data available with you at all times\n",
    "    "
   ]
  },
  {
   "cell_type": "markdown",
   "metadata": {},
   "source": [
    "## Example Task of Review Sentiment Analysis"
   ]
  },
  {
   "cell_type": "markdown",
   "metadata": {},
   "source": [
    "1. So basically in this task, you are given a review from a website `X`"
   ]
  },
  {
   "cell_type": "markdown",
   "metadata": {},
   "source": [
    "2. All the model has to do is to classify whether the sentence represents ...\n",
    "\n",
    "    >* a positive sentiment `1`\n",
    "\n",
    "    >* a neutral sentiment `0`\n",
    "\n",
    "    >* a negative sentiment `-1`"
   ]
  },
  {
   "cell_type": "markdown",
   "metadata": {},
   "source": [
    "3. [QUIZ] Difference between sentiment and emotion\n",
    "\n",
    "    >* Student's answer :: Sentiment must be expressed in some way for it to be conveyed. Emotion not necessarily\n",
    "\n",
    "    >* Student's answer :: A) emotion can be categorical  B) sentiment can be linear\n",
    "\n",
    "    >* Another student's answer :: emotion is a `cognitive state`, while sentiment is an `outward expression`\n",
    "\n",
    "    >* Graham's answer :: sentiment requires expressions towards an `object`, while emotion is not neccessarily is not `expressed`"
   ]
  },
  {
   "cell_type": "markdown",
   "metadata": {},
   "source": [
    "4. Reviews in this task are assessing an object, hence the reason why this is example is of `sentimental` analysis"
   ]
  },
  {
   "cell_type": "markdown",
   "metadata": {},
   "source": [
    "![title](./img/lect01_03.png)"
   ]
  },
  {
   "cell_type": "markdown",
   "metadata": {},
   "source": [
    "# A Three- Step Process for Making Predictions"
   ]
  },
  {
   "cell_type": "markdown",
   "metadata": {},
   "source": [
    "1. This is a typical machine learning pipeline problem"
   ]
  },
  {
   "cell_type": "markdown",
   "metadata": {},
   "source": [
    "2. THe first one is feature extraction\n",
    "\n",
    "    >* Extract salient features for making decision from text"
   ]
  },
  {
   "cell_type": "markdown",
   "metadata": {},
   "source": []
  }
 ],
 "metadata": {
  "kernelspec": {
   "display_name": "Python 3.8.13 ('airdemp')",
   "language": "python",
   "name": "python3"
  },
  "language_info": {
   "name": "python",
   "version": "3.8.13"
  },
  "orig_nbformat": 4,
  "vscode": {
   "interpreter": {
    "hash": "3510ac267af34940b9bcbbea985f5687fcfe104f17d647513e4866477d6e8fb1"
   }
  }
 },
 "nbformat": 4,
 "nbformat_minor": 2
}
