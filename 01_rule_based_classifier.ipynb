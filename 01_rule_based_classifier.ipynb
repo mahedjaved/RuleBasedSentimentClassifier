{
 "cells": [
  {
   "cell_type": "markdown",
   "metadata": {},
   "source": [
    "# Modules"
   ]
  },
  {
   "cell_type": "code",
   "execution_count": 1,
   "metadata": {},
   "outputs": [
    {
     "name": "stderr",
     "output_type": "stream",
     "text": [
      "UsageError: Line magic function `%matplotlib_inline` not found.\n"
     ]
    }
   ],
   "source": [
    "import numpy as np;\n",
    "from matplotlib import pyplot as plt;\n",
    "%matplotlib_inline"
   ]
  },
  {
   "cell_type": "markdown",
   "metadata": {},
   "source": [
    "# Information"
   ]
  },
  {
   "cell_type": "markdown",
   "metadata": {},
   "source": [
    "* Takes the input `X` and returns the label `1`\n",
    "* If the sentiment of text is positive `+1`\n",
    "* The label is `0` if the sentiment of text is `NEUTRAL` \n",
    "* The label is `-1` if the sentiment of text is `NEGATIVE`\n",
    "* The `Stanford Sentiment Treebank` allows us to test the accuracy of your classifier\n",
    "* The classifier works by assigning `positive`, `negative`, or `neutral` label is ...\n",
    "* ... by calculating the `dot product` => `feature_weights * extract_features(X)`\n",
    "* ... and if the value is `greater than zero`, return `1`\n",
    "* if it is `less than zero` return `-1`, and if exactly `zero` return `0`."
   ]
  },
  {
   "cell_type": "markdown",
   "metadata": {},
   "source": [
    "### Func-1 -- Extracts dictionary of featured values"
   ]
  },
  {
   "cell_type": "code",
   "execution_count": 2,
   "metadata": {},
   "outputs": [],
   "source": [
    "def extract_features(X):\n",
    "    features = {};\n",
    "    X_split = X.split('');\n",
    "\n",
    "    # count the number of \"good works\" and \"bad words\" in text\n",
    "    good_words = ['love', 'good'];\n",
    "    bad_words = ['hate', 'bad'];\n",
    "\n",
    "    # split the inputs\n",
    "    for x in X_split:\n",
    "        if x in good_words:\n",
    "            features['good_word_count'] = features.get('good_word_count', 0) + 1;\n",
    "        if x in bad_words:\n",
    "            features['bad_word_count'] = features.get('bad_word_count', 0) + 1;\n",
    "\n",
    "    # the \"bias\" value is always one, to allow us to assign a \"default\" score to the text\n",
    "    features['bias'] = 1;\n",
    "\n",
    "    return features;\n"
   ]
  },
  {
   "cell_type": "code",
   "execution_count": 3,
   "metadata": {},
   "outputs": [],
   "source": [
    "# set feature weights\n",
    "feature_weights = {\n",
    "    'good_word_count' : 1.0,\n",
    "    'bad_word_count' : -1.0,\n",
    "    'bias' : 0.5};"
   ]
  },
  {
   "cell_type": "markdown",
   "metadata": {},
   "source": [
    "### Func-2-- a dictionary which will assign a weight to each extracted feature."
   ]
  },
  {
   "cell_type": "code",
   "execution_count": null,
   "metadata": {},
   "outputs": [],
   "source": [
    "def feature_weights():"
   ]
  }
 ],
 "metadata": {
  "kernelspec": {
   "display_name": "Python 3.8.13 ('airdemp')",
   "language": "python",
   "name": "python3"
  },
  "language_info": {
   "codemirror_mode": {
    "name": "ipython",
    "version": 3
   },
   "file_extension": ".py",
   "mimetype": "text/x-python",
   "name": "python",
   "nbconvert_exporter": "python",
   "pygments_lexer": "ipython3",
   "version": "3.8.13"
  },
  "orig_nbformat": 4,
  "vscode": {
   "interpreter": {
    "hash": "3510ac267af34940b9bcbbea985f5687fcfe104f17d647513e4866477d6e8fb1"
   }
  }
 },
 "nbformat": 4,
 "nbformat_minor": 2
}
